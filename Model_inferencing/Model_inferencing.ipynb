{
 "cells": [
  {
   "cell_type": "markdown",
   "id": "1f57583b",
   "metadata": {},
   "source": [
    "# Import necessary libraries"
   ]
  },
  {
   "cell_type": "code",
   "execution_count": 1,
   "id": "2ab6af73",
   "metadata": {
    "ExecuteTime": {
     "end_time": "2024-11-29T00:12:35.712569Z",
     "start_time": "2024-11-29T00:12:34.996950Z"
    }
   },
   "outputs": [],
   "source": [
    "import pandas as pd\n",
    "import numpy as np\n",
    "import joblib"
   ]
  },
  {
   "cell_type": "code",
   "execution_count": 2,
   "id": "d331f80f",
   "metadata": {
    "ExecuteTime": {
     "end_time": "2024-11-29T00:12:37.095047Z",
     "start_time": "2024-11-29T00:12:35.714571Z"
    }
   },
   "outputs": [
    {
     "name": "stdout",
     "output_type": "stream",
     "text": [
      "Champion model loaded from: C:/Users/Nandan Hegde/OneDrive/Documents/GitHub/MSU_CMSE_830_Final_Semester_project/Movie_analysis_dashboard/Model_outputs/champion_model.pkl\n"
     ]
    },
    {
     "name": "stderr",
     "output_type": "stream",
     "text": [
      "C:\\Users\\Nandan Hegde\\AppData\\Local\\Temp\\ipykernel_17180\\3621897660.py:29: SettingWithCopyWarning: \n",
      "A value is trying to be set on a copy of a slice from a DataFrame.\n",
      "Try using .loc[row_indexer,col_indexer] = value instead\n",
      "\n",
      "See the caveats in the documentation: https://pandas.pydata.org/pandas-docs/stable/user_guide/indexing.html#returning-a-view-versus-a-copy\n",
      "  X_inference[categorical_features] = X_inference[categorical_features].fillna(\"Unknown\")\n"
     ]
    },
    {
     "name": "stdout",
     "output_type": "stream",
     "text": [
      "Inference results saved to: C:/Users/Nandan Hegde/OneDrive/Documents/GitHub/MSU_CMSE_830_Final_Semester_project/Movie_analysis_dashboard/Predictions/inference_results.csv\n",
      "   log_budget  avg_rating  rating_count        ROI  \\\n",
      "0   17.216708    3.920930         215.0  11.451801   \n",
      "1   17.417237    3.431818         110.0   1.956026   \n",
      "2   17.417237    3.259615          52.0   1.956026   \n",
      "3   17.417237    2.357143           7.0   1.956026   \n",
      "4   17.417237    3.071429          49.0   1.956026   \n",
      "\n",
      "                                      genres_x  predicted_revenue  \\\n",
      "0  Adventure|Animation|Children|Comedy|Fantasy       3.667452e+08   \n",
      "1                   Adventure|Children|Fantasy       1.083722e+08   \n",
      "2                               Comedy|Romance       1.083722e+08   \n",
      "3                         Comedy|Drama|Romance       1.083722e+08   \n",
      "4                                       Comedy       1.083722e+08   \n",
      "\n",
      "   actual_revenue  \n",
      "0    3.735540e+08  \n",
      "1    1.083722e+08  \n",
      "2    1.083722e+08  \n",
      "3    1.083722e+08  \n",
      "4    1.083722e+08  \n"
     ]
    },
    {
     "name": "stderr",
     "output_type": "stream",
     "text": [
      "C:\\Users\\Nandan Hegde\\AppData\\Local\\Temp\\ipykernel_17180\\3621897660.py:38: SettingWithCopyWarning: \n",
      "A value is trying to be set on a copy of a slice from a DataFrame.\n",
      "Try using .loc[row_indexer,col_indexer] = value instead\n",
      "\n",
      "See the caveats in the documentation: https://pandas.pydata.org/pandas-docs/stable/user_guide/indexing.html#returning-a-view-versus-a-copy\n",
      "  X_inference['predicted_revenue'] = predicted_revenue\n",
      "C:\\Users\\Nandan Hegde\\AppData\\Local\\Temp\\ipykernel_17180\\3621897660.py:41: SettingWithCopyWarning: \n",
      "A value is trying to be set on a copy of a slice from a DataFrame.\n",
      "Try using .loc[row_indexer,col_indexer] = value instead\n",
      "\n",
      "See the caveats in the documentation: https://pandas.pydata.org/pandas-docs/stable/user_guide/indexing.html#returning-a-view-versus-a-copy\n",
      "  X_inference['actual_revenue'] = data['revenue']\n"
     ]
    }
   ],
   "source": [
    "# Load the champion model\n",
    "model_path = \"C:/Users/Nandan Hegde/OneDrive/Documents/GitHub/MSU_CMSE_830_Final_Semester_project/Movie_analysis_dashboard/Model_outputs/champion_model.pkl\"\n",
    "pipeline = joblib.load(model_path)\n",
    "print(f\"Champion model loaded from: {model_path}\")\n",
    "\n",
    "# Load the cleaned dataset for inference\n",
    "data_path = \"C:/Users/Nandan Hegde/OneDrive/Documents/GitHub/MSU_CMSE_830_Final_Semester_project/Movie_analysis_dashboard/Interim_Data/Final_Cleaned_Data.pkl\"\n",
    "data = pd.read_pickle(data_path)\n",
    "\n",
    "# Feature Engineering: Add profit margin and ROI (same as training)\n",
    "data['profit_margin'] = (data['revenue'] - data['budget']) / data['revenue']\n",
    "data['ROI'] = (data['revenue'] - data['budget']) / data['budget']\n",
    "data['log_budget'] = np.log1p(data['budget'])\n",
    "\n",
    "# Replace non-numeric values with NaN\n",
    "for col in ['log_budget', 'avg_rating', 'rating_count', 'ROI']:\n",
    "    data[col] = pd.to_numeric(data[col], errors='coerce')\n",
    "\n",
    "# Replace infinity and NaN values\n",
    "data.replace([np.inf, -np.inf], np.nan, inplace=True)\n",
    "data.dropna(subset=['log_budget', 'avg_rating', 'rating_count', 'ROI'], inplace=True)\n",
    "\n",
    "# Select features for prediction\n",
    "features = ['log_budget', 'avg_rating', 'rating_count', 'ROI']\n",
    "categorical_features = ['genres_x']\n",
    "X_inference = data[features + categorical_features]\n",
    "\n",
    "# Check if categorical columns contain unexpected values\n",
    "X_inference[categorical_features] = X_inference[categorical_features].fillna(\"Unknown\")\n",
    "\n",
    "# Make predictions\n",
    "log_predictions = pipeline.predict(X_inference)\n",
    "\n",
    "# Convert predictions back to the original scale (exponentiate log-transformed revenue)\n",
    "predicted_revenue = np.expm1(log_predictions)\n",
    "\n",
    "# Add predicted revenue to inference DataFrame\n",
    "X_inference['predicted_revenue'] = predicted_revenue\n",
    "\n",
    "# Add the actual revenue column for comparison\n",
    "X_inference['actual_revenue'] = data['revenue']\n",
    "\n",
    "# Save the inference results to a CSV file\n",
    "output_path = \"C:/Users/Nandan Hegde/OneDrive/Documents/GitHub/MSU_CMSE_830_Final_Semester_project/Movie_analysis_dashboard/Predictions/inference_results.csv\"\n",
    "X_inference.to_csv(output_path, index=False)\n",
    "print(f\"Inference results saved to: {output_path}\")\n",
    "\n",
    "# Preview the first few rows of the inference results\n",
    "print(X_inference.head())"
   ]
  }
 ],
 "metadata": {
  "kernelspec": {
   "display_name": "Python 3 (ipykernel)",
   "language": "python",
   "name": "python3"
  },
  "language_info": {
   "codemirror_mode": {
    "name": "ipython",
    "version": 3
   },
   "file_extension": ".py",
   "mimetype": "text/x-python",
   "name": "python",
   "nbconvert_exporter": "python",
   "pygments_lexer": "ipython3",
   "version": "3.12.3"
  },
  "toc": {
   "base_numbering": 1,
   "nav_menu": {},
   "number_sections": true,
   "sideBar": true,
   "skip_h1_title": false,
   "title_cell": "Table of Contents",
   "title_sidebar": "Contents",
   "toc_cell": false,
   "toc_position": {
    "height": "calc(100% - 180px)",
    "left": "10px",
    "top": "150px",
    "width": "266.312px"
   },
   "toc_section_display": true,
   "toc_window_display": true
  }
 },
 "nbformat": 4,
 "nbformat_minor": 5
}
